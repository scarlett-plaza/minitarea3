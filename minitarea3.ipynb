{
  "nbformat": 4,
  "nbformat_minor": 0,
  "metadata": {
    "colab": {
      "name": "minitarea3.ipynb",
      "version": "0.3.2",
      "provenance": [],
      "include_colab_link": true
    },
    "kernelspec": {
      "name": "python3",
      "display_name": "Python 3"
    }
  },
  "cells": [
    {
      "cell_type": "markdown",
      "metadata": {
        "id": "view-in-github",
        "colab_type": "text"
      },
      "source": [
        "<a href=\"https://colab.research.google.com/github/scarlett-plaza/minitarea3/blob/master/minitarea3.ipynb\" target=\"_parent\"><img src=\"https://colab.research.google.com/assets/colab-badge.svg\" alt=\"Open In Colab\"/></a>"
      ]
    },
    {
      "metadata": {
        "id": "h8QtpuGe3Xa6",
        "colab_type": "text"
      },
      "cell_type": "markdown",
      "source": [
        "# EI2001: Ciencia de Datos en Astronomía\n",
        "\n",
        "**Profesores:** Pía Cortés, Daniela Barrientos, Matías Suazo, Matías Mattamala\n",
        "\n",
        "## Minitarea 3: Uso de Atropy y Pandas con bases de datos.\n",
        "\n",
        "**Objetivos:**\n",
        "\n",
        "1. Abrir y graficar de forma clara un archivo FITS.\n",
        "2. Trabajar con Pandas para el manejo de una gran base de datos.\n",
        "3. Conocer sobre los exoplanetas que se han descubierto.\n",
        "\n",
        "\n",
        "**Instrucciones:**\n",
        "\n",
        "1. Lean cuidadosamente todo lo que viene ahora\n",
        "2. Para hacer esta tarea deben que hacer un **fork** del repositorio en sus cuentas de GitHub.\n",
        "4. Abrir [Google Colab](https://colab.research.google.com) y seleccionar \"abrir un archivo desde GitHub\". Deben seleccionar su cuenta Github y escoger el repositorio que corresponde al fork que hicieron.\n",
        "5. Si todo sale bien, debería abrirse una copia de este notebook en su cuenta de Google Colab.\n",
        "6. Se adjuntan 6 mini actividades a completar. **TODAS** son necesarias y deben completar lo que se va pidiendo.\n",
        "7. Cada vez que completen un ítem, deben guardar un avance en su fork de GitHub, de modo de **respaldar cada avance significativo**. Usen comentarios coherentes con cada respaldo \"Sección 1 completa\", \"Tarea terminada\", no solamente el que pone por defecto.\n"
      ]
    },
    {
      "metadata": {
        "id": "HhrXa6gCvMrY",
        "colab_type": "text"
      },
      "cell_type": "markdown",
      "source": [
        "##Astropy y FITS"
      ]
    },
    {
      "metadata": {
        "id": "Z_xWmWr0OeKG",
        "colab_type": "text"
      },
      "cell_type": "markdown",
      "source": [
        "##1. Abrir un FITS con Astropy y sacar información de su header\n",
        "\n",
        "La primera parte de esta minitarea consiste en descargar un nuevo archivo `FITS` desconocido. Usando lo que aprendimos en clases, debemos sacar información importante de su header.\n",
        "\n",
        "Para comenzar, debes descargar el archivo `FITS`  dado y luego, abrirlo usando el módulo `fits` de  `Astropy` para guardalo en una variable llamada hdu:"
      ]
    },
    {
      "metadata": {
        "id": "lJ17nBAUbHQ_",
        "colab_type": "code",
        "colab": {
          "base_uri": "https://localhost:8080/",
          "height": 74
        },
        "outputId": "b8289af1-6b84-43f5-ae8d-ba39fb244f5e"
      },
      "cell_type": "code",
      "source": [
        "import matplotlib.pyplot as plt\n",
        "from astropy.io import fits \n",
        "from astropy.utils.data import download_file\n",
        "import numpy as np\n",
        "\n",
        "archivo = download_file(\"https://github.com/astrodatos/Clase3/raw/master/lsc1m005-kb69-20160621-0111-e91.fits.fz\", cache=True )\n",
        "hdu = fits.open(archivo)"
      ],
      "execution_count": 1,
      "outputs": [
        {
          "output_type": "stream",
          "text": [
            "Downloading https://github.com/astrodatos/Clase3/raw/master/lsc1m005-kb69-20160621-0111-e91.fits.fz [Done]\n"
          ],
          "name": "stdout"
        }
      ]
    },
    {
      "metadata": {
        "id": "xygwOs2ishhZ",
        "colab_type": "text"
      },
      "cell_type": "markdown",
      "source": [
        "Como comentamos en clases, no existe un estandar universal sobre los header provenientes de distintos telescopios. **En este caso particular, la información del fit no vive en `hdu[0]`, sino que en `hdu[1]`.**"
      ]
    },
    {
      "metadata": {
        "id": "X1AzeChrs6cO",
        "colab_type": "code",
        "colab": {
          "base_uri": "https://localhost:8080/",
          "height": 173
        },
        "outputId": "e05108e7-e117-4e5f-cc69-90f57de4f8c0"
      },
      "cell_type": "code",
      "source": [
        "print(hdu.info())"
      ],
      "execution_count": 2,
      "outputs": [
        {
          "output_type": "stream",
          "text": [
            "Filename: /root/.astropy/cache/download/py3/a01c803c4997037bcc23c9d47d4803ac\n",
            "No.    Name      Ver    Type      Cards   Dimensions   Format\n",
            "  0  PRIMARY       1 PrimaryHDU       8   ()      \n",
            "  1  SCI           1 CompImageHDU    264   (2028, 2028)   float32   \n",
            "  2  CAT           1 BinTableHDU     59   51R x 24C   [D, D, D, D, K, K, D, D, D, D, D, D, D, D, D, D, D, D, D, D, D, K, D, D]   \n",
            "  3  BPM           1 CompImageHDU     10   (2028, 2028)   uint8   \n",
            "None\n"
          ],
          "name": "stdout"
        }
      ]
    },
    {
      "metadata": {
        "id": "e3u28hJluIjo",
        "colab_type": "text"
      },
      "cell_type": "markdown",
      "source": [
        "Ahora, debes inspeccionar el header. Llámalo (sin un print, porque sale hacia el lado) para ver que forma tiene el diccionario: sus llaves (keys) y valores asignados. "
      ]
    },
    {
      "metadata": {
        "id": "qbb6yFqQuaov",
        "colab_type": "code",
        "colab": {}
      },
      "cell_type": "code",
      "source": [
        "# Invocar el header\n",
        "header_data=hdu[1].header\n",
        "header_data"
      ],
      "execution_count": 0,
      "outputs": []
    },
    {
      "metadata": {
        "id": "tRBXWUbSudS0",
        "colab_type": "text"
      },
      "cell_type": "markdown",
      "source": [
        "Debes identificar las llaves que contengan información acerca de: \n",
        "1. objeto astronómico que se observó.\n",
        "2. qué filtro se usó.\n",
        "3. la fecha de la observación.\n",
        "4. desde qué observatorio. \n",
        "\n",
        "Para completar los siguientes print,  primero debes crear una variable para cada uno de los datos que necesitamos y guardar la información directamente desde el header, habiendo ya identificado el `key` del diccionario donde vive cada información."
      ]
    },
    {
      "metadata": {
        "id": "sBuFNVMAwUxX",
        "colab_type": "code",
        "colab": {}
      },
      "cell_type": "code",
      "source": [
        "# Crea 4 variables para guardar la información del header requerida. Recuerda que no sirve leer a ojo el valor y escribirlo.\n",
        "# Debe ser asignado usando los beneficios de ser un array, de la forma genérica: header[\"key\"]\n",
        "objeto=header_data[\"OBJECT\"]\n",
        "filtro=header_data[\"FILTER\"]\n",
        "fecha=header_data[\"DATE-OBS\"]\n",
        "observatorio=header_data[\"SITE\"]\n",
        "\n"
      ],
      "execution_count": 0,
      "outputs": []
    },
    {
      "metadata": {
        "id": "Yu6FOiphu-Cm",
        "colab_type": "code",
        "colab": {
          "base_uri": "https://localhost:8080/",
          "height": 125
        },
        "outputId": "fbd88fd2-597a-43e2-ff7e-236f53a86021"
      },
      "cell_type": "code",
      "source": [
        "print(\"Se observó el siguiente objeto astronómico:\",objeto)\n",
        "print(\"Se utilizó el filtro:\",filtro)\n",
        "print(\"La fecha es:\",fecha)\n",
        "print(\"Se observó desde el observatorio:\",observatorio)"
      ],
      "execution_count": 11,
      "outputs": [
        {
          "output_type": "stream",
          "text": [
            "Se observó el siguiente objeto astronómico: M84\n",
            "Se utilizó el filtro: V\n",
            "La fecha es: 2016-06-22T01:10:32.893\n",
            "Se observó desde el observatorio: LCOGT node at Cerro Tololo Inter-American Observatory\n"
          ],
          "name": "stdout"
        }
      ]
    },
    {
      "metadata": {
        "id": "k_DZAkDawthV",
        "colab_type": "text"
      },
      "cell_type": "markdown",
      "source": [
        "##2. Mostrar la imagen con imshow\n",
        "\n",
        "La segunda parte de esta actividad consiste en mostrar la imagen con imshow y modificarla para que se vea más bonita. \n",
        "\n",
        "Primero, debes asignar en la variable `imagen` la compenente del header que contiene la matriz que forma la imagen astronómica. Recuerda que en este fits específico, el header y la imagen viven en `hdu[1]`."
      ]
    },
    {
      "metadata": {
        "id": "M36dX78oxNZo",
        "colab_type": "code",
        "colab": {}
      },
      "cell_type": "code",
      "source": [
        "imagen = "
      ],
      "execution_count": 0,
      "outputs": []
    },
    {
      "metadata": {
        "id": "OJbQ4ZRbxZfT",
        "colab_type": "text"
      },
      "cell_type": "markdown",
      "source": [
        "Vamos a importar un módulo de `matplotlib` que nos permitirá cambiar la escala de colores de la imagen, como por ejemplo, a una logaritmica. \n",
        "\n",
        "Ahora, debes completar el siguiente bloque de código para mostrar la imagen que viene en este fit."
      ]
    },
    {
      "metadata": {
        "id": "RlW0U_kYxhyq",
        "colab_type": "code",
        "colab": {}
      },
      "cell_type": "code",
      "source": [
        "from matplotlib.colors import LogNorm\n",
        "\n",
        "\n",
        "\n",
        "# El siguiente comando hará que no se vean las líneas sobre la imagen\n",
        "plt.grid(b=None)"
      ],
      "execution_count": 0,
      "outputs": []
    },
    {
      "metadata": {
        "id": "9G5E9e0JxiTl",
        "colab_type": "text"
      },
      "cell_type": "markdown",
      "source": [
        "Se supone que en esta imagen deberíamos ver una galaxia en el centro, sin embargo, casi no se ve nada. Esto ocurre cuando la escala de colores no es la correcta. Para utilizar una escala logarítmica por ejemplo, debes agregar el siguiente argumento a la función imshow(): `norm = LogNorm()`.\n",
        "\n",
        "Plotea nuevamente el gráfico, pero ahora con la escala logarítmica."
      ]
    },
    {
      "metadata": {
        "id": "B2zJySr8xzaN",
        "colab_type": "code",
        "colab": {}
      },
      "cell_type": "code",
      "source": [
        "# Plot acá"
      ],
      "execution_count": 0,
      "outputs": []
    },
    {
      "metadata": {
        "id": "fumufmKVy4I8",
        "colab_type": "text"
      },
      "cell_type": "markdown",
      "source": [
        "Ahora se observa una pequeña zona más brillante en el centro: es una galaxia! Sin embargo, nos gustaría verla más de cerca. Como la imagen es una matriz de valores, lo que debes hacer a continuación es un slicing de los datos para seleccionar un cuadrado.\n",
        "\n",
        "**HINT** El slicing en una matriz de hace de la forma `array[inicio_fila:fin_fila,inicio_columna:fin_columna]`. Si necesitan más ayuda, google es su mejor amigo :)\n",
        "\n",
        "Luego de tener el cuadrado que contiene la imagen, debes plotearla con escala logarítmica de colores."
      ]
    },
    {
      "metadata": {
        "id": "TXq3hi2pxz5y",
        "colab_type": "code",
        "colab": {}
      },
      "cell_type": "code",
      "source": [
        "# Slicing del cuadrado con la galaxia y plot acá\n"
      ],
      "execution_count": 0,
      "outputs": []
    },
    {
      "metadata": {
        "id": "0zFtYkK8vXnR",
        "colab_type": "text"
      },
      "cell_type": "markdown",
      "source": [
        "##Pandas y bases de datos"
      ]
    },
    {
      "metadata": {
        "id": "dQACI0vV2hCv",
        "colab_type": "text"
      },
      "cell_type": "markdown",
      "source": [
        "##3. Graficando exoplanetas con Pandas\n",
        "\n",
        "En la Clase 3 aprendimos que la librería `Pandas` es muy útil para trabajar con bases de datos. En esta sección, volveremos a trabajar con la base de datos de Exoplanetas, sacada de NASA Exoplanet Archive, la cual contiene más de 3900 exoplanetas confirmados con sus respectivos parámetros planetarios y estelares.\n",
        "\n",
        "Para conocer las columnas que contiene esta base de datos, pueden abrir el archivo en sus computadores y analizar las primeras líneas que empiezan con #, o también llamar al método `.columns` de un Data Frame.\n",
        "\n",
        "**HINT** Las columnas más importantes/útiles del archivo planets.csv con su respectiva descripción y unidades, son:\n",
        "- pl_hostname:    Host Name\n",
        "- pl_name:        Planet Name\n",
        "- pl_discmethod:  Discovery Method\n",
        "- pl_pnum:        Number of Planets in System\n",
        "- pl_orbper:      Orbital Period [days]\n",
        "- pl_orbsmax:     Orbit Semi-Major Axis [AU])\n",
        "- pl_orbeccen:    Eccentricity\n",
        "- pl_orbincl:     Inclination [deg]\n",
        "- pl_bmassj:      Planet Mass or M*sin(i) [Jupiter mass]\n",
        "- pl_radj:        Planet Radius [Jupiter radii]\n",
        "- ra_str:         RA [sexagesimal]\n",
        "- ra:             RA [decimal degrees]\n",
        "- dec_str:        Dec [sexagesimal]\n",
        "- dec:            Dec [decimal degrees]\n",
        "- st_dist:        Distance [pc]\n",
        "- pl_eqt:         Equilibrium Temperature [K]\n",
        "- pl_massj:       Planet Mass [Jupiter mass]\n",
        "- pl_masse:       Planet Mass [Earth mass]\n",
        "- pl_rade:        Planet Radius [Earth radii]\n",
        "- pl_disc:        Year of Discovery\n",
        "\n",
        "\n",
        "En esta sección se pide graficar ***de forma clara***, todos los exoplanetas en Masa vs Período, donde el color represente su método de detección. Sugerimos usar máscaras de array para separar los planetas según su método de detección en distintos Data Frame, para luego graficarlos. Recuerden agregar leyendas en el plot donde se explique que significan los colores.\n"
      ]
    },
    {
      "metadata": {
        "id": "jkv-ch1U2dWH",
        "colab_type": "code",
        "colab": {}
      },
      "cell_type": "code",
      "source": [
        "# Importamos Pandas y cargamos el archivo planets.csv\n",
        "import pandas as pd\n",
        "\n",
        "archivo = download_file('https://raw.githubusercontent.com/piacortes/astroclases/master/planets.csv?token=AXWBlnRlbOADXAfY-qtBxFJQ3SugzCucks5cpBbnwA%3D%3D')\n",
        "planetas = pd.read_csv(archivo, comment=\"#\")\n",
        "\n",
        "# Graficar plot\n"
      ],
      "execution_count": 0,
      "outputs": []
    },
    {
      "metadata": {
        "id": "vDQR0rXmrXvU",
        "colab_type": "text"
      },
      "cell_type": "markdown",
      "source": [
        "##4. ¿Cuántos exoplanetas se han descubierto por año?\n",
        "\n",
        "Realiza un histograma que muestre cuántos exoplanetas se han descubierto por año."
      ]
    },
    {
      "metadata": {
        "id": "SRI4I6V-rlou",
        "colab_type": "code",
        "colab": {}
      },
      "cell_type": "code",
      "source": [
        "# Hacer histograma"
      ],
      "execution_count": 0,
      "outputs": []
    },
    {
      "metadata": {
        "id": "QyEhJOLiqRfV",
        "colab_type": "text"
      },
      "cell_type": "markdown",
      "source": [
        "##5. Conocer los planetas más extremos descubiertos\n",
        "\n",
        "Les pedimos usar sus conocimientos pythonísticos, para printear la información (que ustedes consideren relevante) de los exoplanetas que cumplan con las siguientes características:\n",
        "- El más lejano a la Tierra.\n",
        "- El más cercano a la Tierra.\n",
        "- El más grande.\n",
        "- El más pequeño."
      ]
    },
    {
      "metadata": {
        "id": "8ciY6gIn4AwB",
        "colab_type": "code",
        "colab": {}
      },
      "cell_type": "code",
      "source": [
        "# Trabajen"
      ],
      "execution_count": 0,
      "outputs": []
    },
    {
      "metadata": {
        "id": "SYidKqd9qyqS",
        "colab_type": "text"
      },
      "cell_type": "markdown",
      "source": [
        "##6. Los 5 exoplanetas más parecidos a la Tierra\n",
        "\n",
        "Ahora, deben ponerse creativos para contarnos cuáles son los 5 exoplanetas descubiertos más parecidos a la Tierra, y sus características. \n",
        "\n",
        "**Importante:** Queda a su criterio (o descriterio) como definirán la similitud a la Tierra."
      ]
    },
    {
      "metadata": {
        "id": "QrBV5RT_7M4f",
        "colab_type": "code",
        "colab": {}
      },
      "cell_type": "code",
      "source": [
        "# Trabajen"
      ],
      "execution_count": 0,
      "outputs": []
    }
  ]
}